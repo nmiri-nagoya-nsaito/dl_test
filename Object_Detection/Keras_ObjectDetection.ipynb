{
 "cells": [
  {
   "cell_type": "markdown",
   "metadata": {},
   "source": [
    "# Kerasによる物体検出\n",
    "（参考）\n",
    "* https://github.com/rykov8/ssd_keras\n",
    "    * ssd_keras: KerasによるSSDの実装\n",
    "* https://github.com/pierluigiferrari/ssd_keras\n",
    "    * KerasによるSSDの別の実装（SSD300，SSD512，SSD7）Jupyter Notebook形式のデモもある\n",
    "* https://github.com/tanakataiki/ssd_kerasV2\n",
    "    * KerasによるSSDの別実装\n",
    "    * 解説記事\n",
    "        * https://qiita.com/tanakataiki/items/226c2460738361d2c4eb\n",
    "        * https://qiita.com/tanakataiki/items/36e71e7d2f5705bd98bb\n",
    "            * FSSDという細かい物体も検出できるように改良されたSSD\n",
    "* 使用例\n",
    "    * https://qiita.com/yampy/items/37c607fdf77a919cda5d\n",
    "        * ssd_keras の実装を用いた物体検出\n",
    "    * https://qiita.com/PonDad/items/6f9e6d9397951cadc6be\n",
    "        * ssd_keras の実装を用いた物体検出\n",
    "    * https://qiita.com/slowsingle/items/64cc927bb29a49a7af14\n",
    "        * ssd_kerasの実装を用いた学習について\n",
    "* SSDの解説\n",
    "    * https://www.slideshare.net/takanoriogata1121/ssd-single-shot-multibox-detector-eccv2016\n",
    "        * SSDに関するスライド資料\n",
    "    * https://qiita.com/hiroqik/items/39ea69213626bb4b7d84\n",
    "    * https://qiita.com/hiroqik/items/2f602913a0363f2c9ee9"
   ]
  }
 ],
 "metadata": {
  "kernelspec": {
   "display_name": "Python 3",
   "language": "python",
   "name": "python3"
  },
  "language_info": {
   "codemirror_mode": {
    "name": "ipython",
    "version": 3
   },
   "file_extension": ".py",
   "mimetype": "text/x-python",
   "name": "python",
   "nbconvert_exporter": "python",
   "pygments_lexer": "ipython3",
   "version": "3.6.2"
  }
 },
 "nbformat": 4,
 "nbformat_minor": 2
}
