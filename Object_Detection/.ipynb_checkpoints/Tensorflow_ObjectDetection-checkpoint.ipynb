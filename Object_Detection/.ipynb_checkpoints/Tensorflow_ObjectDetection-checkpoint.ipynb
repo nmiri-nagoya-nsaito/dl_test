{
 "cells": [
  {
   "cell_type": "markdown",
   "metadata": {},
   "source": [
    "# Tensorflowによる物体検出\n",
    "\n",
    "(参考)\n",
    "* http://robotics4society.com/2017/08/23/odapi_test/\n",
    "    * 学習済みモデルを利用したTensorflow による物体検出\n",
    "* https://github.com/tensorflow/models/blob/master/research/object_detection/g3doc/detection_model_zoo.md\n",
    "    * 使用可能モデル一覧\n",
    "    * https://github.com/tensorflow/models/tree/master/research/object_detection/models\n",
    "* https://github.com/tensorflow/models/blob/master/research/object_detection/object_detection_tutorial.ipynb\n",
    "    * 物体検出デモ(Jupyter Notebook形式)\n",
    "* https://iwaki2009.blogspot.com/2017/06/tensofflowssdi-tried-ssdsingle-shot.html\n",
    "    * SSDによる検出\n",
    "* https://github.com/balancap/SSD-Tensorflow/\n",
    "    * SSDモデルのTensorflowによる実装例\n",
    "    * これを使ったQiita記事\n",
    "    *     https://qiita.com/drsprinter/items/00beaafd8ecf468f2699\n",
    "    * http://www.koi.mashykom.com/tensorflow.html\n",
    "        * 物体検出の実施例\n",
    "* https://qiita.com/arabian9ts/items/fcf4abd7849e11995968\n",
    "    * SSDによる実装と物体検出例\n",
    "    * VGG16による実装とSSD300による実装\n",
    "        * https://github.com/arabian9ts/VGG16\n",
    "        * https://github.com/arabian9ts/SSD300"
   ]
  }
 ],
 "metadata": {
  "kernelspec": {
   "display_name": "Python 3",
   "language": "python",
   "name": "python3"
  },
  "language_info": {
   "codemirror_mode": {
    "name": "ipython",
    "version": 3
   },
   "file_extension": ".py",
   "mimetype": "text/x-python",
   "name": "python",
   "nbconvert_exporter": "python",
   "pygments_lexer": "ipython3",
   "version": "3.6.2"
  }
 },
 "nbformat": 4,
 "nbformat_minor": 2
}
