{
 "cells": [
  {
   "cell_type": "markdown",
   "metadata": {},
   "source": [
    "(参考)\n",
    "https://github.com/naturomics/CapsNet-Tensorflow\n",
    "* カスタマイズする場合は，以下のCapsLayerクラスを利用して行う\n",
    "    * https://github.com/naturomics/CapsLayer\n",
    "\n",
    "* 別の CapsNet の例\n",
    "    * https://github.com/deepblacksky/capsnet-tensorflow\n",
    "\n",
    "* CapsNetについての調べ(Qiita)\n",
    "    * https://qiita.com/onlyzs/items/5096f50a21758a536d9a"
   ]
  },
  {
   "cell_type": "code",
   "execution_count": 1,
   "metadata": {},
   "outputs": [
    {
     "name": "stdout",
     "output_type": "stream",
     "text": [
      "/Users/saito/work/machine_learning/CapsNet_Tensorflow\r\n"
     ]
    }
   ],
   "source": [
    "!pwd"
   ]
  },
  {
   "cell_type": "code",
   "execution_count": 2,
   "metadata": {},
   "outputs": [
    {
     "name": "stdout",
     "output_type": "stream",
     "text": [
      "Cloning into 'CapsNet-Tensorflow'...\n",
      "remote: Counting objects: 558, done.\u001b[K\n",
      "remote: Total 558 (delta 0), reused 0 (delta 0), pack-reused 558\u001b[K\n",
      "Receiving objects: 100% (558/558), 1.59 MiB | 1.01 MiB/s, done.\n",
      "Resolving deltas: 100% (278/278), done.\n"
     ]
    }
   ],
   "source": [
    "!git clone https://github.com/naturomics/CapsNet-Tensorflow"
   ]
  },
  {
   "cell_type": "code",
   "execution_count": 11,
   "metadata": {},
   "outputs": [
    {
     "name": "stdout",
     "output_type": "stream",
     "text": [
      ">> Downloading train-images-idx3-ubyte.gz 100.1%\n",
      "Successfully Downloaded train-images-idx3-ubyte.gz\n",
      "Extracting  train-images-idx3-ubyte.gz\n",
      "Successfully extracted\n",
      "\n",
      ">> Downloading train-labels-idx1-ubyte.gz 113.5%\n",
      "Successfully Downloaded train-labels-idx1-ubyte.gz\n",
      "Extracting  train-labels-idx1-ubyte.gz\n",
      "Successfully extracted\n",
      "\n",
      ">> Downloading t10k-images-idx3-ubyte.gz 100.4%\n",
      "Successfully Downloaded t10k-images-idx3-ubyte.gz\n",
      "Extracting  t10k-images-idx3-ubyte.gz\n",
      "Successfully extracted\n",
      "\n",
      ">> Downloading t10k-labels-idx1-ubyte.gz 180.4%\n",
      "Successfully Downloaded t10k-labels-idx1-ubyte.gz\n",
      "Extracting  t10k-labels-idx1-ubyte.gz\n",
      "Successfully extracted\n",
      "\n"
     ]
    }
   ],
   "source": [
    "!python CapsNet-Tensorflow/download_data.py"
   ]
  },
  {
   "cell_type": "markdown",
   "metadata": {},
   "source": [
    "訓練の実行"
   ]
  },
  {
   "cell_type": "code",
   "execution_count": 12,
   "metadata": {
    "scrolled": true
   },
   "outputs": [
    {
     "name": "stdout",
     "output_type": "stream",
     "text": [
      "WARNING:tensorflow:From CapsNet-Tensorflow/main.py:118: Supervisor.__init__ (from tensorflow.python.training.supervisor) is deprecated and will be removed in a future version.\n",
      "Instructions for updating:\n",
      "Please switch to tf.train.MonitoredTrainingSession\n",
      "\n",
      "Note: all of results will be saved to directory: results\n",
      "Training for epoch 0/50:\n",
      " 26%|███████▎                    | 112/429 [1:27:18<4:07:06, 46.77s/b]^C\n"
     ]
    }
   ],
   "source": [
    "!python CapsNet-Tensorflow/main.py"
   ]
  },
  {
   "cell_type": "code",
   "execution_count": null,
   "metadata": {},
   "outputs": [],
   "source": [
    "# Tensorboard で訓練の過程をモニタ\n",
    "!tensorboard --logdir=logdir"
   ]
  },
  {
   "cell_type": "code",
   "execution_count": null,
   "metadata": {},
   "outputs": [],
   "source": [
    "# テスト\n",
    "!python main.py --is_training=False"
   ]
  }
 ],
 "metadata": {
  "kernelspec": {
   "display_name": "Python 3",
   "language": "python",
   "name": "python3"
  },
  "language_info": {
   "codemirror_mode": {
    "name": "ipython",
    "version": 3
   },
   "file_extension": ".py",
   "mimetype": "text/x-python",
   "name": "python",
   "nbconvert_exporter": "python",
   "pygments_lexer": "ipython3",
   "version": "3.6.2"
  }
 },
 "nbformat": 4,
 "nbformat_minor": 2
}
